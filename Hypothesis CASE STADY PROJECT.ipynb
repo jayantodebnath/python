{
 "cells": [
  {
   "cell_type": "markdown",
   "id": "5b50facd",
   "metadata": {},
   "source": [
    "# import package"
   ]
  },
  {
   "cell_type": "code",
   "execution_count": 1,
   "id": "3f2e52e0",
   "metadata": {},
   "outputs": [],
   "source": [
    "import numpy as np\n",
    "import pandas as pd\n",
    "import matplotlib.pyplot as plt\n",
    "import seaborn as sns\n",
    "\n",
    "%matplotlib inline\n",
    "\n",
    "import scipy.stats as stats"
   ]
  },
  {
   "cell_type": "markdown",
   "id": "d10a913e",
   "metadata": {},
   "source": [
    "### UDF"
   ]
  },
  {
   "cell_type": "code",
   "execution_count": 2,
   "id": "25f62d26",
   "metadata": {},
   "outputs": [],
   "source": [
    "def fn_descriptives( x ):\n",
    "    \n",
    "    n_tot = x.isnull().count()\n",
    "    n_miss = x.isnull().sum()\n",
    "    n_miss_perc = n_miss / n_tot\n",
    "    \n",
    "    p25 = x.quantile(0.25)\n",
    "    p75 = x.quantile(0.75)\n",
    "    \n",
    "    iqr = p75 - p25\n",
    "    \n",
    "    lc_iqr = p25 - 1.5 * iqr\n",
    "    uc_iqr = p75 + 1.5 * iqr\n",
    "    \n",
    "    return pd.Series( [ x.dtype, x.nunique(), n_tot, x.count(), n_miss, n_miss_perc, \n",
    "                       x.sum(), x.var(), x.std(), x.mean(), \n",
    "                       iqr, lc_iqr, uc_iqr, \n",
    "                       x.min(), x.quantile(0.01), x.quantile(0.05), x.quantile(0.10), \n",
    "                       x.quantile(0.25), x.quantile(0.50), x.quantile(0.75), \n",
    "                       x.quantile(0.90), x.quantile(0.95), x.quantile(0.99), x.max()],\n",
    "                     \n",
    "                    index = ['dtype', 'cardinality', 'n_tot', 'n', 'n_miss', 'n_miss_perc',\n",
    "                             'sum', 'var', 'std', 'mean',\n",
    "                             'iqr', 'lc_iqr', 'uc_iqr',\n",
    "                             'min', 'p1', 'p5', 'p10', \n",
    "                             'p25', 'p50', 'p75', \n",
    "                             'p90', 'p95', 'p99', 'max'])"
   ]
  },
  {
   "cell_type": "markdown",
   "id": "d896807c",
   "metadata": {},
   "source": [
    "#                                       BUSINESS PROBLEM-1"
   ]
  },
  {
   "cell_type": "code",
   "execution_count": 3,
   "id": "e1f41fa7",
   "metadata": {},
   "outputs": [
    {
     "data": {
      "text/html": [
       "<div>\n",
       "<style scoped>\n",
       "    .dataframe tbody tr th:only-of-type {\n",
       "        vertical-align: middle;\n",
       "    }\n",
       "\n",
       "    .dataframe tbody tr th {\n",
       "        vertical-align: top;\n",
       "    }\n",
       "\n",
       "    .dataframe thead th {\n",
       "        text-align: right;\n",
       "    }\n",
       "</style>\n",
       "<table border=\"1\" class=\"dataframe\">\n",
       "  <thead>\n",
       "    <tr style=\"text-align: right;\">\n",
       "      <th></th>\n",
       "      <th>Amount.Requested</th>\n",
       "      <th>Amount.Funded.By.Investors</th>\n",
       "      <th>Interest.Rate</th>\n",
       "      <th>Loan.Length</th>\n",
       "      <th>Loan.Purpose</th>\n",
       "      <th>Debt.To.Income.Ratio</th>\n",
       "      <th>State</th>\n",
       "      <th>Home.Ownership</th>\n",
       "      <th>Monthly.Income</th>\n",
       "      <th>FICO.Range</th>\n",
       "      <th>Open.CREDIT.Lines</th>\n",
       "      <th>Revolving.CREDIT.Balance</th>\n",
       "      <th>Inquiries.in.the.Last.6.Months</th>\n",
       "      <th>Employment.Length</th>\n",
       "    </tr>\n",
       "  </thead>\n",
       "  <tbody>\n",
       "    <tr>\n",
       "      <th>0</th>\n",
       "      <td>20000.0</td>\n",
       "      <td>20000.0</td>\n",
       "      <td>8.90%</td>\n",
       "      <td>36 months</td>\n",
       "      <td>debt_consolidation</td>\n",
       "      <td>14.90%</td>\n",
       "      <td>SC</td>\n",
       "      <td>MORTGAGE</td>\n",
       "      <td>6541.67</td>\n",
       "      <td>735-739</td>\n",
       "      <td>14.0</td>\n",
       "      <td>14272.0</td>\n",
       "      <td>2.0</td>\n",
       "      <td>&lt; 1 year</td>\n",
       "    </tr>\n",
       "    <tr>\n",
       "      <th>1</th>\n",
       "      <td>19200.0</td>\n",
       "      <td>19200.0</td>\n",
       "      <td>12.12%</td>\n",
       "      <td>36 months</td>\n",
       "      <td>debt_consolidation</td>\n",
       "      <td>28.36%</td>\n",
       "      <td>TX</td>\n",
       "      <td>MORTGAGE</td>\n",
       "      <td>4583.33</td>\n",
       "      <td>715-719</td>\n",
       "      <td>12.0</td>\n",
       "      <td>11140.0</td>\n",
       "      <td>1.0</td>\n",
       "      <td>2 years</td>\n",
       "    </tr>\n",
       "    <tr>\n",
       "      <th>2</th>\n",
       "      <td>35000.0</td>\n",
       "      <td>35000.0</td>\n",
       "      <td>21.98%</td>\n",
       "      <td>60 months</td>\n",
       "      <td>debt_consolidation</td>\n",
       "      <td>23.81%</td>\n",
       "      <td>CA</td>\n",
       "      <td>MORTGAGE</td>\n",
       "      <td>11500.00</td>\n",
       "      <td>690-694</td>\n",
       "      <td>14.0</td>\n",
       "      <td>21977.0</td>\n",
       "      <td>1.0</td>\n",
       "      <td>2 years</td>\n",
       "    </tr>\n",
       "    <tr>\n",
       "      <th>3</th>\n",
       "      <td>10000.0</td>\n",
       "      <td>9975.0</td>\n",
       "      <td>9.99%</td>\n",
       "      <td>36 months</td>\n",
       "      <td>debt_consolidation</td>\n",
       "      <td>14.30%</td>\n",
       "      <td>KS</td>\n",
       "      <td>MORTGAGE</td>\n",
       "      <td>3833.33</td>\n",
       "      <td>695-699</td>\n",
       "      <td>10.0</td>\n",
       "      <td>9346.0</td>\n",
       "      <td>0.0</td>\n",
       "      <td>5 years</td>\n",
       "    </tr>\n",
       "    <tr>\n",
       "      <th>4</th>\n",
       "      <td>12000.0</td>\n",
       "      <td>12000.0</td>\n",
       "      <td>11.71%</td>\n",
       "      <td>36 months</td>\n",
       "      <td>credit_card</td>\n",
       "      <td>18.78%</td>\n",
       "      <td>NJ</td>\n",
       "      <td>RENT</td>\n",
       "      <td>3195.00</td>\n",
       "      <td>695-699</td>\n",
       "      <td>11.0</td>\n",
       "      <td>14469.0</td>\n",
       "      <td>0.0</td>\n",
       "      <td>9 years</td>\n",
       "    </tr>\n",
       "  </tbody>\n",
       "</table>\n",
       "</div>"
      ],
      "text/plain": [
       "   Amount.Requested  Amount.Funded.By.Investors Interest.Rate Loan.Length  \\\n",
       "0           20000.0                     20000.0         8.90%   36 months   \n",
       "1           19200.0                     19200.0        12.12%   36 months   \n",
       "2           35000.0                     35000.0        21.98%   60 months   \n",
       "3           10000.0                      9975.0         9.99%   36 months   \n",
       "4           12000.0                     12000.0        11.71%   36 months   \n",
       "\n",
       "         Loan.Purpose Debt.To.Income.Ratio State Home.Ownership  \\\n",
       "0  debt_consolidation               14.90%    SC       MORTGAGE   \n",
       "1  debt_consolidation               28.36%    TX       MORTGAGE   \n",
       "2  debt_consolidation               23.81%    CA       MORTGAGE   \n",
       "3  debt_consolidation               14.30%    KS       MORTGAGE   \n",
       "4         credit_card               18.78%    NJ           RENT   \n",
       "\n",
       "   Monthly.Income FICO.Range  Open.CREDIT.Lines  Revolving.CREDIT.Balance  \\\n",
       "0         6541.67    735-739               14.0                   14272.0   \n",
       "1         4583.33    715-719               12.0                   11140.0   \n",
       "2        11500.00    690-694               14.0                   21977.0   \n",
       "3         3833.33    695-699               10.0                    9346.0   \n",
       "4         3195.00    695-699               11.0                   14469.0   \n",
       "\n",
       "   Inquiries.in.the.Last.6.Months Employment.Length  \n",
       "0                             2.0          < 1 year  \n",
       "1                             1.0           2 years  \n",
       "2                             1.0           2 years  \n",
       "3                             0.0           5 years  \n",
       "4                             0.0           9 years  "
      ]
     },
     "execution_count": 3,
     "metadata": {},
     "output_type": "execute_result"
    }
   ],
   "source": [
    "loan = pd.read_csv(\"C:/Users/Jayanto Debnath/Downloads/Basic Statistics - Hypothesis Testing/LoansData.csv\")\n",
    "loan.head()"
   ]
  },
  {
   "cell_type": "markdown",
   "id": "0fef476e",
   "metadata": {},
   "source": [
    "## Data prep"
   ]
  },
  {
   "cell_type": "code",
   "execution_count": 4,
   "id": "75e0bd7f",
   "metadata": {},
   "outputs": [
    {
     "name": "stdout",
     "output_type": "stream",
     "text": [
      "<class 'pandas.core.frame.DataFrame'>\n",
      "RangeIndex: 2500 entries, 0 to 2499\n",
      "Data columns (total 14 columns):\n",
      " #   Column                          Non-Null Count  Dtype  \n",
      "---  ------                          --------------  -----  \n",
      " 0   Amount.Requested                2499 non-null   float64\n",
      " 1   Amount.Funded.By.Investors      2499 non-null   float64\n",
      " 2   Interest.Rate                   2498 non-null   object \n",
      " 3   Loan.Length                     2500 non-null   object \n",
      " 4   Loan.Purpose                    2500 non-null   object \n",
      " 5   Debt.To.Income.Ratio            2499 non-null   object \n",
      " 6   State                           2500 non-null   object \n",
      " 7   Home.Ownership                  2499 non-null   object \n",
      " 8   Monthly.Income                  2499 non-null   float64\n",
      " 9   FICO.Range                      2498 non-null   object \n",
      " 10  Open.CREDIT.Lines               2497 non-null   float64\n",
      " 11  Revolving.CREDIT.Balance        2497 non-null   float64\n",
      " 12  Inquiries.in.the.Last.6.Months  2497 non-null   float64\n",
      " 13  Employment.Length               2423 non-null   object \n",
      "dtypes: float64(6), object(8)\n",
      "memory usage: 273.6+ KB\n"
     ]
    }
   ],
   "source": [
    "loan.info()"
   ]
  },
  {
   "cell_type": "code",
   "execution_count": 5,
   "id": "3382b68f",
   "metadata": {},
   "outputs": [
    {
     "data": {
      "text/plain": [
       "Index(['Amount.Requested', 'Amount.Funded.By.Investors', 'Interest.Rate',\n",
       "       'Loan.Length', 'Loan.Purpose', 'Debt.To.Income.Ratio', 'State',\n",
       "       'Home.Ownership', 'Monthly.Income', 'FICO.Range', 'Open.CREDIT.Lines',\n",
       "       'Revolving.CREDIT.Balance', 'Inquiries.in.the.Last.6.Months',\n",
       "       'Employment.Length'],\n",
       "      dtype='object')"
      ]
     },
     "execution_count": 5,
     "metadata": {},
     "output_type": "execute_result"
    }
   ],
   "source": [
    "loan.columns"
   ]
  },
  {
   "cell_type": "code",
   "execution_count": 6,
   "id": "619c1975",
   "metadata": {},
   "outputs": [],
   "source": [
    "## columns rename\n",
    "loan.rename( {'Amount.Requested': 'amt_req', 'Amount.Funded.By.Investors': 'amt_funded_by_investors', 'Interest.Rate': 'interest_rate',\n",
    "       'Loan.Length': 'loan_length_Month', 'Loan.Purpose': 'loan_purpose', 'Debt.To.Income.Ratio': 'debt_to_inc_ratio',\n",
    "       'Home.Ownership': 'home_ownership', 'Monthly.Income':'monthly_inc', 'FICO.Range':'FICO_Range', 'Open.CREDIT.Lines':'open_REDIT_lines',\n",
    "       'Revolving.CREDIT.Balance': 'revolving_CREDIT_Bal' , 'Inquiries.in.the.Last.6.Months':'last_6month_inquiries',\n",
    "       'Employment.Length':'employment_Length'}, axis= 1 , inplace= True)"
   ]
  },
  {
   "cell_type": "code",
   "execution_count": 7,
   "id": "edaab6ad",
   "metadata": {},
   "outputs": [
    {
     "data": {
      "text/plain": [
       "Index(['amt_req', 'amt_funded_by_investors', 'interest_rate',\n",
       "       'loan_length_Month', 'loan_purpose', 'debt_to_inc_ratio', 'State',\n",
       "       'home_ownership', 'monthly_inc', 'FICO_Range', 'open_REDIT_lines',\n",
       "       'revolving_CREDIT_Bal', 'last_6month_inquiries', 'employment_Length'],\n",
       "      dtype='object')"
      ]
     },
     "execution_count": 7,
     "metadata": {},
     "output_type": "execute_result"
    }
   ],
   "source": [
    "loan.columns"
   ]
  },
  {
   "cell_type": "code",
   "execution_count": 8,
   "id": "30bf1b1a",
   "metadata": {},
   "outputs": [],
   "source": [
    "## removing % symbol\n",
    "loan.interest_rate = loan.interest_rate.str.replace(\"%\", '').astype('float')\n",
    "loan.debt_to_inc_ratio = loan.debt_to_inc_ratio.str.replace(\"%\", '').astype('float')\n",
    "# loan length col\n",
    "loan.loan_length_Month = loan.loan_length_Month.str.replace(\"months\", '').astype('float')"
   ]
  },
  {
   "cell_type": "code",
   "execution_count": 9,
   "id": "bece7b3c",
   "metadata": {},
   "outputs": [
    {
     "data": {
      "text/plain": [
       "amt_req                     1\n",
       "amt_funded_by_investors     1\n",
       "interest_rate               2\n",
       "loan_length_Month           0\n",
       "loan_purpose                0\n",
       "debt_to_inc_ratio           1\n",
       "State                       0\n",
       "home_ownership              1\n",
       "monthly_inc                 1\n",
       "FICO_Range                  2\n",
       "open_REDIT_lines            3\n",
       "revolving_CREDIT_Bal        3\n",
       "last_6month_inquiries       3\n",
       "employment_Length          77\n",
       "dtype: int64"
      ]
     },
     "execution_count": 9,
     "metadata": {},
     "output_type": "execute_result"
    }
   ],
   "source": [
    "## fill null value\n",
    "loan.isnull().sum()"
   ]
  },
  {
   "cell_type": "code",
   "execution_count": 10,
   "id": "7e4b324e",
   "metadata": {},
   "outputs": [],
   "source": [
    "loan.drop( columns='employment_Length' , inplace= True)\n",
    "loan.dropna( inplace= True)"
   ]
  },
  {
   "cell_type": "code",
   "execution_count": 11,
   "id": "d210941f",
   "metadata": {},
   "outputs": [
    {
     "name": "stdout",
     "output_type": "stream",
     "text": [
      "<class 'pandas.core.frame.DataFrame'>\n",
      "Int64Index: 2489 entries, 0 to 2499\n",
      "Data columns (total 13 columns):\n",
      " #   Column                   Non-Null Count  Dtype  \n",
      "---  ------                   --------------  -----  \n",
      " 0   amt_req                  2489 non-null   float64\n",
      " 1   amt_funded_by_investors  2489 non-null   float64\n",
      " 2   interest_rate            2489 non-null   float64\n",
      " 3   loan_length_Month        2489 non-null   float64\n",
      " 4   loan_purpose             2489 non-null   object \n",
      " 5   debt_to_inc_ratio        2489 non-null   float64\n",
      " 6   State                    2489 non-null   object \n",
      " 7   home_ownership           2489 non-null   object \n",
      " 8   monthly_inc              2489 non-null   float64\n",
      " 9   FICO_Range               2489 non-null   object \n",
      " 10  open_REDIT_lines         2489 non-null   float64\n",
      " 11  revolving_CREDIT_Bal     2489 non-null   float64\n",
      " 12  last_6month_inquiries    2489 non-null   float64\n",
      "dtypes: float64(9), object(4)\n",
      "memory usage: 272.2+ KB\n"
     ]
    }
   ],
   "source": [
    "loan.info()"
   ]
  },
  {
   "cell_type": "code",
   "execution_count": 12,
   "id": "dbed800e",
   "metadata": {},
   "outputs": [],
   "source": [
    "# seperate categorical and continuous variables\n",
    "loan_conti_vars = loan.loc[:, (loan.dtypes == 'float64') | (loan.dtypes == 'int64')]\n",
    "loan_cat_vars = loan.loc[:, (loan.dtypes == 'object')]"
   ]
  },
  {
   "cell_type": "code",
   "execution_count": 13,
   "id": "f38bbf8e",
   "metadata": {},
   "outputs": [
    {
     "data": {
      "text/plain": [
       "<bound method NDFrame.describe of             loan_purpose State home_ownership FICO_Range\n",
       "0     debt_consolidation    SC       MORTGAGE    735-739\n",
       "1     debt_consolidation    TX       MORTGAGE    715-719\n",
       "2     debt_consolidation    CA       MORTGAGE    690-694\n",
       "3     debt_consolidation    KS       MORTGAGE    695-699\n",
       "4            credit_card    NJ           RENT    695-699\n",
       "...                  ...   ...            ...        ...\n",
       "2495  debt_consolidation    NY       MORTGAGE    705-709\n",
       "2496    home_improvement    MD            OWN    740-744\n",
       "2497  debt_consolidation    PA       MORTGAGE    680-684\n",
       "2498      major_purchase    NJ           RENT    675-679\n",
       "2499  debt_consolidation    NY           RENT    670-674\n",
       "\n",
       "[2489 rows x 4 columns]>"
      ]
     },
     "execution_count": 13,
     "metadata": {},
     "output_type": "execute_result"
    }
   ],
   "source": [
    "loan_cat_vars.describe"
   ]
  },
  {
   "cell_type": "code",
   "execution_count": 14,
   "id": "20235139",
   "metadata": {},
   "outputs": [
    {
     "data": {
      "text/html": [
       "<div>\n",
       "<style scoped>\n",
       "    .dataframe tbody tr th:only-of-type {\n",
       "        vertical-align: middle;\n",
       "    }\n",
       "\n",
       "    .dataframe tbody tr th {\n",
       "        vertical-align: top;\n",
       "    }\n",
       "\n",
       "    .dataframe thead th {\n",
       "        text-align: right;\n",
       "    }\n",
       "</style>\n",
       "<table border=\"1\" class=\"dataframe\">\n",
       "  <thead>\n",
       "    <tr style=\"text-align: right;\">\n",
       "      <th></th>\n",
       "      <th>amt_req</th>\n",
       "      <th>amt_funded_by_investors</th>\n",
       "      <th>interest_rate</th>\n",
       "      <th>loan_length_Month</th>\n",
       "      <th>debt_to_inc_ratio</th>\n",
       "      <th>monthly_inc</th>\n",
       "      <th>open_REDIT_lines</th>\n",
       "      <th>revolving_CREDIT_Bal</th>\n",
       "      <th>last_6month_inquiries</th>\n",
       "    </tr>\n",
       "  </thead>\n",
       "  <tbody>\n",
       "    <tr>\n",
       "      <th>dtype</th>\n",
       "      <td>float64</td>\n",
       "      <td>float64</td>\n",
       "      <td>float64</td>\n",
       "      <td>float64</td>\n",
       "      <td>float64</td>\n",
       "      <td>float64</td>\n",
       "      <td>float64</td>\n",
       "      <td>float64</td>\n",
       "      <td>float64</td>\n",
       "    </tr>\n",
       "    <tr>\n",
       "      <th>cardinality</th>\n",
       "      <td>378</td>\n",
       "      <td>707</td>\n",
       "      <td>273</td>\n",
       "      <td>2</td>\n",
       "      <td>1664</td>\n",
       "      <td>630</td>\n",
       "      <td>29</td>\n",
       "      <td>2342</td>\n",
       "      <td>10</td>\n",
       "    </tr>\n",
       "    <tr>\n",
       "      <th>n_tot</th>\n",
       "      <td>2489</td>\n",
       "      <td>2489</td>\n",
       "      <td>2489</td>\n",
       "      <td>2489</td>\n",
       "      <td>2489</td>\n",
       "      <td>2489</td>\n",
       "      <td>2489</td>\n",
       "      <td>2489</td>\n",
       "      <td>2489</td>\n",
       "    </tr>\n",
       "    <tr>\n",
       "      <th>n</th>\n",
       "      <td>2489</td>\n",
       "      <td>2489</td>\n",
       "      <td>2489</td>\n",
       "      <td>2489</td>\n",
       "      <td>2489</td>\n",
       "      <td>2489</td>\n",
       "      <td>2489</td>\n",
       "      <td>2489</td>\n",
       "      <td>2489</td>\n",
       "    </tr>\n",
       "    <tr>\n",
       "      <th>n_miss</th>\n",
       "      <td>0</td>\n",
       "      <td>0</td>\n",
       "      <td>0</td>\n",
       "      <td>0</td>\n",
       "      <td>0</td>\n",
       "      <td>0</td>\n",
       "      <td>0</td>\n",
       "      <td>0</td>\n",
       "      <td>0</td>\n",
       "    </tr>\n",
       "    <tr>\n",
       "      <th>n_miss_perc</th>\n",
       "      <td>0.0</td>\n",
       "      <td>0.0</td>\n",
       "      <td>0.0</td>\n",
       "      <td>0.0</td>\n",
       "      <td>0.0</td>\n",
       "      <td>0.0</td>\n",
       "      <td>0.0</td>\n",
       "      <td>0.0</td>\n",
       "      <td>0.0</td>\n",
       "    </tr>\n",
       "    <tr>\n",
       "      <th>sum</th>\n",
       "      <td>30888300.0</td>\n",
       "      <td>29879833.09</td>\n",
       "      <td>32533.5</td>\n",
       "      <td>102756.0</td>\n",
       "      <td>38286.26</td>\n",
       "      <td>14150580.53</td>\n",
       "      <td>25075.0</td>\n",
       "      <td>37883581.0</td>\n",
       "      <td>2254.0</td>\n",
       "    </tr>\n",
       "    <tr>\n",
       "      <th>var</th>\n",
       "      <td>60945301.903335</td>\n",
       "      <td>60039786.026045</td>\n",
       "      <td>17.450548</td>\n",
       "      <td>98.935762</td>\n",
       "      <td>56.357326</td>\n",
       "      <td>15727546.230929</td>\n",
       "      <td>20.3333</td>\n",
       "      <td>334804674.667375</td>\n",
       "      <td>1.517208</td>\n",
       "    </tr>\n",
       "    <tr>\n",
       "      <th>std</th>\n",
       "      <td>7806.747204</td>\n",
       "      <td>7748.534444</td>\n",
       "      <td>4.177385</td>\n",
       "      <td>9.946646</td>\n",
       "      <td>7.507152</td>\n",
       "      <td>3965.797049</td>\n",
       "      <td>4.509246</td>\n",
       "      <td>18297.668558</td>\n",
       "      <td>1.23175</td>\n",
       "    </tr>\n",
       "    <tr>\n",
       "      <th>mean</th>\n",
       "      <td>12409.923664</td>\n",
       "      <td>12004.754154</td>\n",
       "      <td>13.070912</td>\n",
       "      <td>41.28405</td>\n",
       "      <td>15.382186</td>\n",
       "      <td>5685.2473</td>\n",
       "      <td>10.074327</td>\n",
       "      <td>15220.40217</td>\n",
       "      <td>0.905585</td>\n",
       "    </tr>\n",
       "    <tr>\n",
       "      <th>iqr</th>\n",
       "      <td>11000.0</td>\n",
       "      <td>10000.0</td>\n",
       "      <td>5.64</td>\n",
       "      <td>0.0</td>\n",
       "      <td>10.94</td>\n",
       "      <td>3333.33</td>\n",
       "      <td>6.0</td>\n",
       "      <td>13337.0</td>\n",
       "      <td>1.0</td>\n",
       "    </tr>\n",
       "    <tr>\n",
       "      <th>lc_iqr</th>\n",
       "      <td>-10500.0</td>\n",
       "      <td>-9000.0</td>\n",
       "      <td>1.7</td>\n",
       "      <td>36.0</td>\n",
       "      <td>-6.66</td>\n",
       "      <td>-1533.325</td>\n",
       "      <td>-2.0</td>\n",
       "      <td>-14444.5</td>\n",
       "      <td>-1.5</td>\n",
       "    </tr>\n",
       "    <tr>\n",
       "      <th>uc_iqr</th>\n",
       "      <td>33500.0</td>\n",
       "      <td>31000.0</td>\n",
       "      <td>24.26</td>\n",
       "      <td>36.0</td>\n",
       "      <td>37.1</td>\n",
       "      <td>11799.995</td>\n",
       "      <td>22.0</td>\n",
       "      <td>38903.5</td>\n",
       "      <td>2.5</td>\n",
       "    </tr>\n",
       "    <tr>\n",
       "      <th>min</th>\n",
       "      <td>1000.0</td>\n",
       "      <td>-0.01</td>\n",
       "      <td>5.42</td>\n",
       "      <td>36.0</td>\n",
       "      <td>0.0</td>\n",
       "      <td>588.5</td>\n",
       "      <td>2.0</td>\n",
       "      <td>0.0</td>\n",
       "      <td>0.0</td>\n",
       "    </tr>\n",
       "    <tr>\n",
       "      <th>p1</th>\n",
       "      <td>1500.0</td>\n",
       "      <td>1000.0</td>\n",
       "      <td>5.966</td>\n",
       "      <td>36.0</td>\n",
       "      <td>0.708</td>\n",
       "      <td>1415.0692</td>\n",
       "      <td>3.0</td>\n",
       "      <td>0.0</td>\n",
       "      <td>0.0</td>\n",
       "    </tr>\n",
       "    <tr>\n",
       "      <th>p5</th>\n",
       "      <td>2830.0</td>\n",
       "      <td>2210.0</td>\n",
       "      <td>6.62</td>\n",
       "      <td>36.0</td>\n",
       "      <td>3.168</td>\n",
       "      <td>2162.668</td>\n",
       "      <td>4.0</td>\n",
       "      <td>904.6</td>\n",
       "      <td>0.0</td>\n",
       "    </tr>\n",
       "    <tr>\n",
       "      <th>p10</th>\n",
       "      <td>4000.0</td>\n",
       "      <td>3600.0</td>\n",
       "      <td>7.62</td>\n",
       "      <td>36.0</td>\n",
       "      <td>5.308</td>\n",
       "      <td>2600.0</td>\n",
       "      <td>5.0</td>\n",
       "      <td>2288.6</td>\n",
       "      <td>0.0</td>\n",
       "    </tr>\n",
       "    <tr>\n",
       "      <th>p25</th>\n",
       "      <td>6000.0</td>\n",
       "      <td>6000.0</td>\n",
       "      <td>10.16</td>\n",
       "      <td>36.0</td>\n",
       "      <td>9.75</td>\n",
       "      <td>3466.67</td>\n",
       "      <td>7.0</td>\n",
       "      <td>5561.0</td>\n",
       "      <td>0.0</td>\n",
       "    </tr>\n",
       "    <tr>\n",
       "      <th>p50</th>\n",
       "      <td>10000.0</td>\n",
       "      <td>10000.0</td>\n",
       "      <td>13.11</td>\n",
       "      <td>36.0</td>\n",
       "      <td>15.32</td>\n",
       "      <td>5000.0</td>\n",
       "      <td>9.0</td>\n",
       "      <td>10944.0</td>\n",
       "      <td>0.0</td>\n",
       "    </tr>\n",
       "    <tr>\n",
       "      <th>p75</th>\n",
       "      <td>17000.0</td>\n",
       "      <td>16000.0</td>\n",
       "      <td>15.8</td>\n",
       "      <td>36.0</td>\n",
       "      <td>20.69</td>\n",
       "      <td>6800.0</td>\n",
       "      <td>13.0</td>\n",
       "      <td>18898.0</td>\n",
       "      <td>1.0</td>\n",
       "    </tr>\n",
       "    <tr>\n",
       "      <th>p90</th>\n",
       "      <td>24000.0</td>\n",
       "      <td>23950.0</td>\n",
       "      <td>18.64</td>\n",
       "      <td>60.0</td>\n",
       "      <td>25.014</td>\n",
       "      <td>9297.33</td>\n",
       "      <td>16.0</td>\n",
       "      <td>30000.0</td>\n",
       "      <td>3.0</td>\n",
       "    </tr>\n",
       "    <tr>\n",
       "      <th>p95</th>\n",
       "      <td>28000.0</td>\n",
       "      <td>27925.0</td>\n",
       "      <td>20.49</td>\n",
       "      <td>60.0</td>\n",
       "      <td>28.326</td>\n",
       "      <td>11666.67</td>\n",
       "      <td>18.0</td>\n",
       "      <td>40579.8</td>\n",
       "      <td>3.0</td>\n",
       "    </tr>\n",
       "    <tr>\n",
       "      <th>p99</th>\n",
       "      <td>35000.0</td>\n",
       "      <td>35000.0</td>\n",
       "      <td>22.9896</td>\n",
       "      <td>60.0</td>\n",
       "      <td>33.23</td>\n",
       "      <td>18750.0</td>\n",
       "      <td>23.0</td>\n",
       "      <td>92502.92</td>\n",
       "      <td>5.0</td>\n",
       "    </tr>\n",
       "    <tr>\n",
       "      <th>max</th>\n",
       "      <td>35000.0</td>\n",
       "      <td>35000.0</td>\n",
       "      <td>24.89</td>\n",
       "      <td>60.0</td>\n",
       "      <td>34.91</td>\n",
       "      <td>102750.0</td>\n",
       "      <td>38.0</td>\n",
       "      <td>270800.0</td>\n",
       "      <td>9.0</td>\n",
       "    </tr>\n",
       "  </tbody>\n",
       "</table>\n",
       "</div>"
      ],
      "text/plain": [
       "                     amt_req amt_funded_by_investors interest_rate  \\\n",
       "dtype                float64                 float64       float64   \n",
       "cardinality              378                     707           273   \n",
       "n_tot                   2489                    2489          2489   \n",
       "n                       2489                    2489          2489   \n",
       "n_miss                     0                       0             0   \n",
       "n_miss_perc              0.0                     0.0           0.0   \n",
       "sum               30888300.0             29879833.09       32533.5   \n",
       "var          60945301.903335         60039786.026045     17.450548   \n",
       "std              7806.747204             7748.534444      4.177385   \n",
       "mean            12409.923664            12004.754154     13.070912   \n",
       "iqr                  11000.0                 10000.0          5.64   \n",
       "lc_iqr              -10500.0                 -9000.0           1.7   \n",
       "uc_iqr               33500.0                 31000.0         24.26   \n",
       "min                   1000.0                   -0.01          5.42   \n",
       "p1                    1500.0                  1000.0         5.966   \n",
       "p5                    2830.0                  2210.0          6.62   \n",
       "p10                   4000.0                  3600.0          7.62   \n",
       "p25                   6000.0                  6000.0         10.16   \n",
       "p50                  10000.0                 10000.0         13.11   \n",
       "p75                  17000.0                 16000.0          15.8   \n",
       "p90                  24000.0                 23950.0         18.64   \n",
       "p95                  28000.0                 27925.0         20.49   \n",
       "p99                  35000.0                 35000.0       22.9896   \n",
       "max                  35000.0                 35000.0         24.89   \n",
       "\n",
       "            loan_length_Month debt_to_inc_ratio      monthly_inc  \\\n",
       "dtype                 float64           float64          float64   \n",
       "cardinality                 2              1664              630   \n",
       "n_tot                    2489              2489             2489   \n",
       "n                        2489              2489             2489   \n",
       "n_miss                      0                 0                0   \n",
       "n_miss_perc               0.0               0.0              0.0   \n",
       "sum                  102756.0          38286.26      14150580.53   \n",
       "var                 98.935762         56.357326  15727546.230929   \n",
       "std                  9.946646          7.507152      3965.797049   \n",
       "mean                 41.28405         15.382186        5685.2473   \n",
       "iqr                       0.0             10.94          3333.33   \n",
       "lc_iqr                   36.0             -6.66        -1533.325   \n",
       "uc_iqr                   36.0              37.1        11799.995   \n",
       "min                      36.0               0.0            588.5   \n",
       "p1                       36.0             0.708        1415.0692   \n",
       "p5                       36.0             3.168         2162.668   \n",
       "p10                      36.0             5.308           2600.0   \n",
       "p25                      36.0              9.75          3466.67   \n",
       "p50                      36.0             15.32           5000.0   \n",
       "p75                      36.0             20.69           6800.0   \n",
       "p90                      60.0            25.014          9297.33   \n",
       "p95                      60.0            28.326         11666.67   \n",
       "p99                      60.0             33.23          18750.0   \n",
       "max                      60.0             34.91         102750.0   \n",
       "\n",
       "            open_REDIT_lines revolving_CREDIT_Bal last_6month_inquiries  \n",
       "dtype                float64              float64               float64  \n",
       "cardinality               29                 2342                    10  \n",
       "n_tot                   2489                 2489                  2489  \n",
       "n                       2489                 2489                  2489  \n",
       "n_miss                     0                    0                     0  \n",
       "n_miss_perc              0.0                  0.0                   0.0  \n",
       "sum                  25075.0           37883581.0                2254.0  \n",
       "var                  20.3333     334804674.667375              1.517208  \n",
       "std                 4.509246         18297.668558               1.23175  \n",
       "mean               10.074327          15220.40217              0.905585  \n",
       "iqr                      6.0              13337.0                   1.0  \n",
       "lc_iqr                  -2.0             -14444.5                  -1.5  \n",
       "uc_iqr                  22.0              38903.5                   2.5  \n",
       "min                      2.0                  0.0                   0.0  \n",
       "p1                       3.0                  0.0                   0.0  \n",
       "p5                       4.0                904.6                   0.0  \n",
       "p10                      5.0               2288.6                   0.0  \n",
       "p25                      7.0               5561.0                   0.0  \n",
       "p50                      9.0              10944.0                   0.0  \n",
       "p75                     13.0              18898.0                   1.0  \n",
       "p90                     16.0              30000.0                   3.0  \n",
       "p95                     18.0              40579.8                   3.0  \n",
       "p99                     23.0             92502.92                   5.0  \n",
       "max                     38.0             270800.0                   9.0  "
      ]
     },
     "execution_count": 14,
     "metadata": {},
     "output_type": "execute_result"
    }
   ],
   "source": [
    "loan_conti_vars.apply(fn_descriptives)"
   ]
  },
  {
   "cell_type": "code",
   "execution_count": 15,
   "id": "158ba344",
   "metadata": {},
   "outputs": [],
   "source": [
    "# outlier treatment\n",
    "for var in loan_conti_vars.columns:\n",
    "        loan[var] = np.where(loan[var] > loan[var].quantile(0.99) ,\n",
    "                                    loan[var].quantile(0.99), loan[var])"
   ]
  },
  {
   "cell_type": "markdown",
   "id": "49c74b31",
   "metadata": {},
   "source": [
    "# 1(a)  Intrest rate is varied for different loan amounts"
   ]
  },
  {
   "cell_type": "markdown",
   "id": "e6dfc532",
   "metadata": {},
   "source": [
    "#### 1 Define H0:\n",
    "    variables independant\n",
    "\n",
    "#### 2 Dwefine Ha: \n",
    "    variables dependant\n",
    "\n",
    "#### 3. Define ci & pvalue:¶\n",
    "    ci = 95%\n",
    "    p_val = 0.05\n",
    "    signi. val =  1.960        \n",
    "\n",
    "#### 4 perform the test:\n",
    "     t test: tttest_relative\n",
    "     stats.pearsonr"
   ]
  },
  {
   "cell_type": "code",
   "execution_count": 16,
   "id": "ec86fe80",
   "metadata": {},
   "outputs": [
    {
     "data": {
      "text/plain": [
       "PearsonRResult(statistic=0.3341023116568378, pvalue=5.737570334459154e-66)"
      ]
     },
     "execution_count": 16,
     "metadata": {},
     "output_type": "execute_result"
    }
   ],
   "source": [
    "stats.pearsonr(loan.interest_rate,loan.amt_funded_by_investors)"
   ]
  },
  {
   "cell_type": "code",
   "execution_count": 17,
   "id": "07444881",
   "metadata": {},
   "outputs": [
    {
     "data": {
      "text/plain": [
       "Ttest_relResult(statistic=-77.22379032059564, pvalue=0.0)"
      ]
     },
     "execution_count": 17,
     "metadata": {},
     "output_type": "execute_result"
    }
   ],
   "source": [
    "stats.ttest_rel(loan.interest_rate,loan.amt_funded_by_investors)"
   ]
  },
  {
   "cell_type": "markdown",
   "id": "aac2f7a9",
   "metadata": {},
   "source": [
    "##### 5 business conclusion:\n",
    "     for the larger amount of loan interset rate is lower"
   ]
  },
  {
   "cell_type": "markdown",
   "id": "9e37e760",
   "metadata": {},
   "source": [
    "# (b) Loan length is directly effecting intrest rate"
   ]
  },
  {
   "cell_type": "markdown",
   "id": "5ab343b3",
   "metadata": {},
   "source": [
    "#### 1 Define H0:\n",
    "    variables independant\n",
    "\n",
    "#### 2 Dwefine Ha: \n",
    "    variables dependant\n",
    "\n",
    "#### 3. Define ci & pvalue:¶\n",
    "    ci = 95%\n",
    "    p_val = 0.05\n",
    "    signi. val =  1.960        \n",
    "\n",
    "#### 4 perform the test:\n",
    "    stats.spearmanr"
   ]
  },
  {
   "cell_type": "code",
   "execution_count": 18,
   "id": "443f175c",
   "metadata": {},
   "outputs": [
    {
     "data": {
      "text/plain": [
       "SpearmanrResult(correlation=0.3897344194175745, pvalue=4.3727413630439584e-91)"
      ]
     },
     "execution_count": 18,
     "metadata": {},
     "output_type": "execute_result"
    }
   ],
   "source": [
    "stats.spearmanr(loan.interest_rate , loan.loan_length_Month)"
   ]
  },
  {
   "cell_type": "markdown",
   "id": "5fe8a6c7",
   "metadata": {},
   "source": [
    "##### business conclusion:\n",
    " \n",
    "    there is a direct corelation of the pre usage with latest month usage"
   ]
  },
  {
   "cell_type": "markdown",
   "id": "80743fb9",
   "metadata": {},
   "source": [
    "# (c)  Inrest rate varies for different purpose of loans"
   ]
  },
  {
   "cell_type": "code",
   "execution_count": 19,
   "id": "32be5b38",
   "metadata": {},
   "outputs": [
    {
     "data": {
      "text/plain": [
       "array(['debt_consolidation', 'credit_card', 'other', 'moving', 'car',\n",
       "       'vacation', 'home_improvement', 'house', 'major_purchase',\n",
       "       'educational', 'medical', 'wedding', 'small_business',\n",
       "       'renewable_energy'], dtype=object)"
      ]
     },
     "execution_count": 19,
     "metadata": {},
     "output_type": "execute_result"
    }
   ],
   "source": [
    "loan.loan_purpose.unique()"
   ]
  },
  {
   "cell_type": "code",
   "execution_count": 20,
   "id": "eb5a8571",
   "metadata": {},
   "outputs": [],
   "source": [
    "# data prep\n",
    "\n",
    "# samples for each loan purposes\n",
    "\n",
    "a1 = loan.loc[ loan.loan_purpose == 'debt_consolidation', 'interest_rate' ]\n",
    "a2 = loan.loc[ loan.loan_purpose == 'credit_card', 'interest_rate' ]\n",
    "a3 = loan.loc[ loan.loan_purpose == 'other', 'interest_rate' ]\n",
    "a4 = loan.loc[ loan.loan_purpose == 'moving', 'interest_rate' ]\n",
    "a5 = loan.loc[ loan.loan_purpose == 'car', 'interest_rate' ]\n",
    "a6 = loan.loc[ loan.loan_purpose == 'vacation', 'interest_rate' ]\n",
    "a7 = loan.loc[ loan.loan_purpose == 'home_improvement', 'interest_rate' ]\n",
    "a8 = loan.loc[ loan.loan_purpose == 'house', 'interest_rate' ]\n",
    "a9 = loan.loc[ loan.loan_purpose == 'major_purchase', 'interest_rate' ]\n",
    "a10 = loan.loc[ loan.loan_purpose == 'educational', 'interest_rate' ]\n",
    "a11 = loan.loc[ loan.loan_purpose == 'medical', 'interest_rate' ]\n",
    "a12 = loan.loc[ loan.loan_purpose == 'wedding', 'interest_rate' ]\n",
    "a13 = loan.loc[ loan.loan_purpose == 'small_business', 'interest_rate' ]\n",
    "a14 = loan.loc[ loan.loan_purpose == 'renewable_energy', 'interest_rate' ]"
   ]
  },
  {
   "cell_type": "markdown",
   "id": "9d6da189",
   "metadata": {},
   "source": [
    "##### 1 Define H0:\n",
    "        samples are from same population\n",
    "\n",
    "#### 2 Define Ha:\n",
    "       samples are from different populatiom\n",
    "#### 3. Define ci & pvalue:¶\n",
    "    ci = 95%\n",
    "    p_val = 0.05\n",
    "    signi. val =  1.960        \n",
    "#### 4 perform the test:\n",
    "      stats.f_oneway"
   ]
  },
  {
   "cell_type": "code",
   "execution_count": 21,
   "id": "afc2420f",
   "metadata": {},
   "outputs": [
    {
     "data": {
      "text/plain": [
       "F_onewayResult(statistic=7.485329679963486, pvalue=1.1463480725465721e-14)"
      ]
     },
     "execution_count": 21,
     "metadata": {},
     "output_type": "execute_result"
    }
   ],
   "source": [
    "stats.f_oneway(a1,a2,a3,a4,a5,a6,a7,a8,a9,a10,a11,a12,a13,a14)"
   ]
  },
  {
   "cell_type": "markdown",
   "id": "76664991",
   "metadata": {},
   "source": [
    "#### business conclusion\n",
    "     Interest rate for different loan purpose is different"
   ]
  },
  {
   "cell_type": "markdown",
   "id": "12fc25fd",
   "metadata": {},
   "source": [
    "# (d) There is relationship between FICO scores and Home Ownership. It means that, People with owning home will have high FICO scores.\n"
   ]
  },
  {
   "cell_type": "markdown",
   "id": "4fbeb3e3",
   "metadata": {},
   "source": [
    "#### data prep fot chi square test"
   ]
  },
  {
   "cell_type": "code",
   "execution_count": 22,
   "id": "7fa4a51e",
   "metadata": {},
   "outputs": [
    {
     "data": {
      "text/html": [
       "<div>\n",
       "<style scoped>\n",
       "    .dataframe tbody tr th:only-of-type {\n",
       "        vertical-align: middle;\n",
       "    }\n",
       "\n",
       "    .dataframe tbody tr th {\n",
       "        vertical-align: top;\n",
       "    }\n",
       "\n",
       "    .dataframe thead th {\n",
       "        text-align: right;\n",
       "    }\n",
       "</style>\n",
       "<table border=\"1\" class=\"dataframe\">\n",
       "  <thead>\n",
       "    <tr style=\"text-align: right;\">\n",
       "      <th>FICO_Range</th>\n",
       "      <th>640-644</th>\n",
       "      <th>645-649</th>\n",
       "      <th>650-654</th>\n",
       "      <th>655-659</th>\n",
       "      <th>660-664</th>\n",
       "      <th>665-669</th>\n",
       "      <th>670-674</th>\n",
       "      <th>675-679</th>\n",
       "      <th>680-684</th>\n",
       "      <th>685-689</th>\n",
       "      <th>...</th>\n",
       "      <th>780-784</th>\n",
       "      <th>785-789</th>\n",
       "      <th>790-794</th>\n",
       "      <th>795-799</th>\n",
       "      <th>800-804</th>\n",
       "      <th>805-809</th>\n",
       "      <th>810-814</th>\n",
       "      <th>815-819</th>\n",
       "      <th>820-824</th>\n",
       "      <th>830-834</th>\n",
       "    </tr>\n",
       "    <tr>\n",
       "      <th>home_ownership</th>\n",
       "      <th></th>\n",
       "      <th></th>\n",
       "      <th></th>\n",
       "      <th></th>\n",
       "      <th></th>\n",
       "      <th></th>\n",
       "      <th></th>\n",
       "      <th></th>\n",
       "      <th></th>\n",
       "      <th></th>\n",
       "      <th></th>\n",
       "      <th></th>\n",
       "      <th></th>\n",
       "      <th></th>\n",
       "      <th></th>\n",
       "      <th></th>\n",
       "      <th></th>\n",
       "      <th></th>\n",
       "      <th></th>\n",
       "      <th></th>\n",
       "      <th></th>\n",
       "    </tr>\n",
       "  </thead>\n",
       "  <tbody>\n",
       "    <tr>\n",
       "      <th>MORTGAGE</th>\n",
       "      <td>0</td>\n",
       "      <td>1</td>\n",
       "      <td>1</td>\n",
       "      <td>0</td>\n",
       "      <td>41</td>\n",
       "      <td>52</td>\n",
       "      <td>67</td>\n",
       "      <td>79</td>\n",
       "      <td>55</td>\n",
       "      <td>61</td>\n",
       "      <td>...</td>\n",
       "      <td>21</td>\n",
       "      <td>12</td>\n",
       "      <td>15</td>\n",
       "      <td>7</td>\n",
       "      <td>7</td>\n",
       "      <td>6</td>\n",
       "      <td>5</td>\n",
       "      <td>6</td>\n",
       "      <td>0</td>\n",
       "      <td>1</td>\n",
       "    </tr>\n",
       "    <tr>\n",
       "      <th>OTHER</th>\n",
       "      <td>0</td>\n",
       "      <td>0</td>\n",
       "      <td>0</td>\n",
       "      <td>1</td>\n",
       "      <td>0</td>\n",
       "      <td>0</td>\n",
       "      <td>1</td>\n",
       "      <td>1</td>\n",
       "      <td>2</td>\n",
       "      <td>0</td>\n",
       "      <td>...</td>\n",
       "      <td>0</td>\n",
       "      <td>0</td>\n",
       "      <td>0</td>\n",
       "      <td>0</td>\n",
       "      <td>0</td>\n",
       "      <td>0</td>\n",
       "      <td>0</td>\n",
       "      <td>0</td>\n",
       "      <td>0</td>\n",
       "      <td>0</td>\n",
       "    </tr>\n",
       "    <tr>\n",
       "      <th>OWN</th>\n",
       "      <td>1</td>\n",
       "      <td>0</td>\n",
       "      <td>0</td>\n",
       "      <td>0</td>\n",
       "      <td>17</td>\n",
       "      <td>18</td>\n",
       "      <td>13</td>\n",
       "      <td>11</td>\n",
       "      <td>9</td>\n",
       "      <td>10</td>\n",
       "      <td>...</td>\n",
       "      <td>3</td>\n",
       "      <td>2</td>\n",
       "      <td>1</td>\n",
       "      <td>1</td>\n",
       "      <td>3</td>\n",
       "      <td>2</td>\n",
       "      <td>1</td>\n",
       "      <td>0</td>\n",
       "      <td>1</td>\n",
       "      <td>0</td>\n",
       "    </tr>\n",
       "    <tr>\n",
       "      <th>RENT</th>\n",
       "      <td>4</td>\n",
       "      <td>2</td>\n",
       "      <td>0</td>\n",
       "      <td>3</td>\n",
       "      <td>66</td>\n",
       "      <td>75</td>\n",
       "      <td>89</td>\n",
       "      <td>75</td>\n",
       "      <td>91</td>\n",
       "      <td>64</td>\n",
       "      <td>...</td>\n",
       "      <td>4</td>\n",
       "      <td>5</td>\n",
       "      <td>4</td>\n",
       "      <td>5</td>\n",
       "      <td>2</td>\n",
       "      <td>3</td>\n",
       "      <td>2</td>\n",
       "      <td>0</td>\n",
       "      <td>0</td>\n",
       "      <td>0</td>\n",
       "    </tr>\n",
       "  </tbody>\n",
       "</table>\n",
       "<p>4 rows × 38 columns</p>\n",
       "</div>"
      ],
      "text/plain": [
       "FICO_Range      640-644  645-649  650-654  655-659  660-664  665-669  670-674  \\\n",
       "home_ownership                                                                  \n",
       "MORTGAGE              0        1        1        0       41       52       67   \n",
       "OTHER                 0        0        0        1        0        0        1   \n",
       "OWN                   1        0        0        0       17       18       13   \n",
       "RENT                  4        2        0        3       66       75       89   \n",
       "\n",
       "FICO_Range      675-679  680-684  685-689  ...  780-784  785-789  790-794  \\\n",
       "home_ownership                             ...                              \n",
       "MORTGAGE             79       55       61  ...       21       12       15   \n",
       "OTHER                 1        2        0  ...        0        0        0   \n",
       "OWN                  11        9       10  ...        3        2        1   \n",
       "RENT                 75       91       64  ...        4        5        4   \n",
       "\n",
       "FICO_Range      795-799  800-804  805-809  810-814  815-819  820-824  830-834  \n",
       "home_ownership                                                                 \n",
       "MORTGAGE              7        7        6        5        6        0        1  \n",
       "OTHER                 0        0        0        0        0        0        0  \n",
       "OWN                   1        3        2        1        0        1        0  \n",
       "RENT                  5        2        3        2        0        0        0  \n",
       "\n",
       "[4 rows x 38 columns]"
      ]
     },
     "execution_count": 22,
     "metadata": {},
     "output_type": "execute_result"
    }
   ],
   "source": [
    "obs = pd.crosstab( loan.home_ownership, loan.FICO_Range )\n",
    "obs"
   ]
  },
  {
   "cell_type": "markdown",
   "id": "35784277",
   "metadata": {},
   "source": [
    "\n",
    "   \n",
    "##### 1 Define H0:\n",
    "      No relationship, independant\n",
    "\n",
    "#### 2 Define Ha:\n",
    "       variables are related, dependant\n",
    "#### 3. Define ci & pvalue:¶\n",
    "    ci = 95%\n",
    "    p_val = 0.05\n",
    "    signi. val =  1.960        \n",
    "#### 4 perform the test:"
   ]
  },
  {
   "cell_type": "code",
   "execution_count": 23,
   "id": "503636ce",
   "metadata": {},
   "outputs": [
    {
     "name": "stdout",
     "output_type": "stream",
     "text": [
      "p value = 8.424183189199129e-17\n"
     ]
    }
   ],
   "source": [
    "print ('p value =', stats.chi2_contingency( obs )[1])"
   ]
  },
  {
   "cell_type": "markdown",
   "id": "d2095fe5",
   "metadata": {},
   "source": [
    "#### business conclusion\n",
    "    people who owns a house has high FICO score as compare to people who doesn't."
   ]
  },
  {
   "cell_type": "markdown",
   "id": "5196e2e9",
   "metadata": {},
   "source": [
    "# BUSINESS PROBLEM 2"
   ]
  },
  {
   "cell_type": "markdown",
   "id": "b11dda62",
   "metadata": {},
   "source": [
    "### import dataset"
   ]
  },
  {
   "cell_type": "code",
   "execution_count": 24,
   "id": "1125883b",
   "metadata": {},
   "outputs": [
    {
     "data": {
      "text/html": [
       "<div>\n",
       "<style scoped>\n",
       "    .dataframe tbody tr th:only-of-type {\n",
       "        vertical-align: middle;\n",
       "    }\n",
       "\n",
       "    .dataframe tbody tr th {\n",
       "        vertical-align: top;\n",
       "    }\n",
       "\n",
       "    .dataframe thead th {\n",
       "        text-align: right;\n",
       "    }\n",
       "</style>\n",
       "<table border=\"1\" class=\"dataframe\">\n",
       "  <thead>\n",
       "    <tr style=\"text-align: right;\">\n",
       "      <th></th>\n",
       "      <th>Order_Number</th>\n",
       "      <th>Barry_Price</th>\n",
       "      <th>Mary_Price</th>\n",
       "    </tr>\n",
       "  </thead>\n",
       "  <tbody>\n",
       "    <tr>\n",
       "      <th>0</th>\n",
       "      <td>1</td>\n",
       "      <td>126</td>\n",
       "      <td>114</td>\n",
       "    </tr>\n",
       "    <tr>\n",
       "      <th>1</th>\n",
       "      <td>2</td>\n",
       "      <td>110</td>\n",
       "      <td>118</td>\n",
       "    </tr>\n",
       "    <tr>\n",
       "      <th>2</th>\n",
       "      <td>3</td>\n",
       "      <td>138</td>\n",
       "      <td>114</td>\n",
       "    </tr>\n",
       "    <tr>\n",
       "      <th>3</th>\n",
       "      <td>4</td>\n",
       "      <td>142</td>\n",
       "      <td>111</td>\n",
       "    </tr>\n",
       "    <tr>\n",
       "      <th>4</th>\n",
       "      <td>5</td>\n",
       "      <td>146</td>\n",
       "      <td>129</td>\n",
       "    </tr>\n",
       "    <tr>\n",
       "      <th>5</th>\n",
       "      <td>6</td>\n",
       "      <td>136</td>\n",
       "      <td>119</td>\n",
       "    </tr>\n",
       "    <tr>\n",
       "      <th>6</th>\n",
       "      <td>7</td>\n",
       "      <td>94</td>\n",
       "      <td>97</td>\n",
       "    </tr>\n",
       "    <tr>\n",
       "      <th>7</th>\n",
       "      <td>8</td>\n",
       "      <td>103</td>\n",
       "      <td>104</td>\n",
       "    </tr>\n",
       "    <tr>\n",
       "      <th>8</th>\n",
       "      <td>9</td>\n",
       "      <td>140</td>\n",
       "      <td>127</td>\n",
       "    </tr>\n",
       "    <tr>\n",
       "      <th>9</th>\n",
       "      <td>10</td>\n",
       "      <td>152</td>\n",
       "      <td>133</td>\n",
       "    </tr>\n",
       "    <tr>\n",
       "      <th>10</th>\n",
       "      <td>11</td>\n",
       "      <td>108</td>\n",
       "      <td>103</td>\n",
       "    </tr>\n",
       "    <tr>\n",
       "      <th>11</th>\n",
       "      <td>12</td>\n",
       "      <td>97</td>\n",
       "      <td>108</td>\n",
       "    </tr>\n",
       "  </tbody>\n",
       "</table>\n",
       "</div>"
      ],
      "text/plain": [
       "    Order_Number  Barry_Price  Mary_Price\n",
       "0              1          126         114\n",
       "1              2          110         118\n",
       "2              3          138         114\n",
       "3              4          142         111\n",
       "4              5          146         129\n",
       "5              6          136         119\n",
       "6              7           94          97\n",
       "7              8          103         104\n",
       "8              9          140         127\n",
       "9             10          152         133\n",
       "10            11          108         103\n",
       "11            12           97         108"
      ]
     },
     "execution_count": 24,
     "metadata": {},
     "output_type": "execute_result"
    }
   ],
   "source": [
    "price_Quotes = pd.read_csv(\"C:/Users/Jayanto Debnath/Downloads/Basic Statistics - Hypothesis Testing/Price_Quotes.csv\") \n",
    "price_Quotes"
   ]
  },
  {
   "cell_type": "code",
   "execution_count": 25,
   "id": "9ad64a56",
   "metadata": {},
   "outputs": [
    {
     "data": {
      "text/plain": [
       "Order_Number    0\n",
       "Barry_Price     0\n",
       "Mary_Price      0\n",
       "dtype: int64"
      ]
     },
     "execution_count": 25,
     "metadata": {},
     "output_type": "execute_result"
    }
   ],
   "source": [
    "price_Quotes.isnull().sum()"
   ]
  },
  {
   "cell_type": "markdown",
   "id": "a462ee8f",
   "metadata": {},
   "source": [
    "## Q.We would like to assess if there is any difference in the average price quotes provided by Mary and Barry"
   ]
  },
  {
   "cell_type": "code",
   "execution_count": 26,
   "id": "68435de2",
   "metadata": {},
   "outputs": [
    {
     "name": "stdout",
     "output_type": "stream",
     "text": [
      "mean of Barry price: 124.3\n",
      "mean of Mary price: 114.8\n"
     ]
    }
   ],
   "source": [
    "# print the avg/mean of the samples\n",
    "print( 'mean of Barry price:', round(price_Quotes.Barry_Price.mean(), 1) )\n",
    "print( 'mean of Mary price:', round(price_Quotes.Mary_Price.mean(), 1) )"
   ]
  },
  {
   "cell_type": "markdown",
   "id": "e046a8dc",
   "metadata": {},
   "source": [
    "##### 1 Define H0:\n",
    "        u2 = u1\n",
    "\n",
    "#### 2 Define Ha:\n",
    "       u2 <> u1\n",
    "#### 3. Define ci & pvalue:¶\n",
    "    ci = 95%\n",
    "    p_val = 0.05\n",
    "    signi. val =  1.960        \n",
    "#### 4 perform the test:\n",
    "    stats.ttest"
   ]
  },
  {
   "cell_type": "code",
   "execution_count": 27,
   "id": "10f67539",
   "metadata": {},
   "outputs": [
    {
     "data": {
      "text/plain": [
       "Ttest_relResult(statistic=2.5213765108923494, pvalue=0.02840588045242053)"
      ]
     },
     "execution_count": 27,
     "metadata": {},
     "output_type": "execute_result"
    }
   ],
   "source": [
    " stats.ttest_rel( price_Quotes.Barry_Price, price_Quotes.Mary_Price )"
   ]
  },
  {
   "cell_type": "markdown",
   "id": "d9b0b053",
   "metadata": {},
   "source": [
    "#### business conclusion\n",
    "    Their is average price difference in Barry and Mary quotes"
   ]
  },
  {
   "cell_type": "markdown",
   "id": "cb0db530",
   "metadata": {},
   "source": [
    "# BUSINESS PROBLEM 3"
   ]
  },
  {
   "cell_type": "markdown",
   "id": "e2922a9a",
   "metadata": {},
   "source": [
    "### import dataset"
   ]
  },
  {
   "cell_type": "code",
   "execution_count": 28,
   "id": "87a3a9d2",
   "metadata": {},
   "outputs": [
    {
     "data": {
      "text/html": [
       "<div>\n",
       "<style scoped>\n",
       "    .dataframe tbody tr th:only-of-type {\n",
       "        vertical-align: middle;\n",
       "    }\n",
       "\n",
       "    .dataframe tbody tr th {\n",
       "        vertical-align: top;\n",
       "    }\n",
       "\n",
       "    .dataframe thead th {\n",
       "        text-align: right;\n",
       "    }\n",
       "</style>\n",
       "<table border=\"1\" class=\"dataframe\">\n",
       "  <thead>\n",
       "    <tr style=\"text-align: right;\">\n",
       "      <th></th>\n",
       "      <th>Month</th>\n",
       "      <th>Reengineer</th>\n",
       "      <th>Employee_Turnover</th>\n",
       "      <th>VAR4</th>\n",
       "      <th>VAR5</th>\n",
       "    </tr>\n",
       "  </thead>\n",
       "  <tbody>\n",
       "    <tr>\n",
       "      <th>0</th>\n",
       "      <td>1</td>\n",
       "      <td>Prior</td>\n",
       "      <td>0.0000</td>\n",
       "      <td>24.390244</td>\n",
       "      <td>42.682927</td>\n",
       "    </tr>\n",
       "    <tr>\n",
       "      <th>1</th>\n",
       "      <td>2</td>\n",
       "      <td>Prior</td>\n",
       "      <td>6.0606</td>\n",
       "      <td>19.354839</td>\n",
       "      <td>25.806452</td>\n",
       "    </tr>\n",
       "    <tr>\n",
       "      <th>2</th>\n",
       "      <td>3</td>\n",
       "      <td>Prior</td>\n",
       "      <td>12.1212</td>\n",
       "      <td>35.087719</td>\n",
       "      <td>146.198830</td>\n",
       "    </tr>\n",
       "    <tr>\n",
       "      <th>3</th>\n",
       "      <td>4</td>\n",
       "      <td>Prior</td>\n",
       "      <td>3.3333</td>\n",
       "      <td>18.404908</td>\n",
       "      <td>110.429448</td>\n",
       "    </tr>\n",
       "    <tr>\n",
       "      <th>4</th>\n",
       "      <td>5</td>\n",
       "      <td>Prior</td>\n",
       "      <td>12.9032</td>\n",
       "      <td>17.964072</td>\n",
       "      <td>23.952096</td>\n",
       "    </tr>\n",
       "  </tbody>\n",
       "</table>\n",
       "</div>"
      ],
      "text/plain": [
       "   Month Reengineer  Employee_Turnover       VAR4        VAR5\n",
       "0      1      Prior             0.0000  24.390244   42.682927\n",
       "1      2      Prior             6.0606  19.354839   25.806452\n",
       "2      3      Prior            12.1212  35.087719  146.198830\n",
       "3      4      Prior             3.3333  18.404908  110.429448\n",
       "4      5      Prior            12.9032  17.964072   23.952096"
      ]
     },
     "execution_count": 28,
     "metadata": {},
     "output_type": "execute_result"
    }
   ],
   "source": [
    "treatment = pd.read_csv(\"C:/Users/Jayanto Debnath/Downloads/Basic Statistics - Hypothesis Testing/Treatment_Facility.csv\")\n",
    "treatment.head()"
   ]
  },
  {
   "cell_type": "code",
   "execution_count": 29,
   "id": "22ce2856",
   "metadata": {},
   "outputs": [],
   "source": [
    " treatment.rename( columns={'VAR4':'TRFF(%)','VAR5':'CI(%)'}, inplace=True)"
   ]
  },
  {
   "cell_type": "code",
   "execution_count": 30,
   "id": "ff0680c9",
   "metadata": {},
   "outputs": [
    {
     "data": {
      "text/plain": [
       "Month                0\n",
       "Reengineer           0\n",
       "Employee_Turnover    0\n",
       "TRFF(%)              0\n",
       "CI(%)                0\n",
       "dtype: int64"
      ]
     },
     "execution_count": 30,
     "metadata": {},
     "output_type": "execute_result"
    }
   ],
   "source": [
    "treatment.isnull().sum()"
   ]
  },
  {
   "cell_type": "markdown",
   "id": "329bb6fe",
   "metadata": {},
   "source": [
    "## BUSINESS PROBLEM : Determine what effect, if any, the reengineering effort had on the incidence behavioral problems and staff turnover. i.e To determine if the reengineering effort changed the critical incidence rate. Is there evidence that the critical incidence rate improved?"
   ]
  },
  {
   "cell_type": "code",
   "execution_count": 31,
   "id": "2744c528",
   "metadata": {},
   "outputs": [
    {
     "name": "stdout",
     "output_type": "stream",
     "text": [
      "mean of s1: 53.9 | mean of s2: 23.3\n"
     ]
    }
   ],
   "source": [
    "#samples for each Reengineer \n",
    "s1 = treatment.loc[ treatment.Reengineer == 'Prior', 'CI(%)' ]\n",
    "s2 = treatment.loc[ treatment.Reengineer == 'Post', 'CI(%)' ]\n",
    "\n",
    "# print the avg/mean of three samples\n",
    "print( 'mean of s1:', round(s1.mean(), 1), \n",
    "          '| mean of s2:', round(s2.mean(), 1))"
   ]
  },
  {
   "cell_type": "markdown",
   "id": "1754982c",
   "metadata": {},
   "source": [
    "##### 1 Define H0:\n",
    "         u2 <= u1\n",
    "\n",
    "#### 2 Define Ha:\n",
    "       u2 > u1\n",
    "#### 3. Define ci & pvalue:¶\n",
    "    ci = 95%\n",
    "    p_val = 0.05\n",
    "    signi. val =  1.960        \n",
    "#### 4 perform the test:"
   ]
  },
  {
   "cell_type": "code",
   "execution_count": 32,
   "id": "d60210ea",
   "metadata": {},
   "outputs": [
    {
     "name": "stdout",
     "output_type": "stream",
     "text": [
      "Ttest_indResult(statistic=1.627914425352865, pvalue=0.12091989189884148)\n"
     ]
    }
   ],
   "source": [
    "print( stats.ttest_ind( s1, s2 ) )"
   ]
  },
  {
   "cell_type": "markdown",
   "id": "95663334",
   "metadata": {},
   "source": [
    "#### business conclusion\n",
    "      WIth the give data we can not say that their is any effect on the reengineering efforts"
   ]
  },
  {
   "cell_type": "markdown",
   "id": "efb6e824",
   "metadata": {},
   "source": [
    "# BUSINESS PROBLEM 4"
   ]
  },
  {
   "cell_type": "code",
   "execution_count": 33,
   "id": "1f917474",
   "metadata": {},
   "outputs": [
    {
     "data": {
      "text/html": [
       "<div>\n",
       "<style scoped>\n",
       "    .dataframe tbody tr th:only-of-type {\n",
       "        vertical-align: middle;\n",
       "    }\n",
       "\n",
       "    .dataframe tbody tr th {\n",
       "        vertical-align: top;\n",
       "    }\n",
       "\n",
       "    .dataframe thead th {\n",
       "        text-align: right;\n",
       "    }\n",
       "</style>\n",
       "<table border=\"1\" class=\"dataframe\">\n",
       "  <thead>\n",
       "    <tr style=\"text-align: right;\">\n",
       "      <th></th>\n",
       "      <th>Days</th>\n",
       "      <th>Priority</th>\n",
       "    </tr>\n",
       "  </thead>\n",
       "  <tbody>\n",
       "    <tr>\n",
       "      <th>0</th>\n",
       "      <td>3.3</td>\n",
       "      <td>High</td>\n",
       "    </tr>\n",
       "    <tr>\n",
       "      <th>1</th>\n",
       "      <td>7.9</td>\n",
       "      <td>Medium</td>\n",
       "    </tr>\n",
       "    <tr>\n",
       "      <th>2</th>\n",
       "      <td>0.3</td>\n",
       "      <td>High</td>\n",
       "    </tr>\n",
       "    <tr>\n",
       "      <th>3</th>\n",
       "      <td>0.7</td>\n",
       "      <td>Medium</td>\n",
       "    </tr>\n",
       "    <tr>\n",
       "      <th>4</th>\n",
       "      <td>8.6</td>\n",
       "      <td>Medium</td>\n",
       "    </tr>\n",
       "    <tr>\n",
       "      <th>...</th>\n",
       "      <td>...</td>\n",
       "      <td>...</td>\n",
       "    </tr>\n",
       "    <tr>\n",
       "      <th>637</th>\n",
       "      <td>2.5</td>\n",
       "      <td>Low</td>\n",
       "    </tr>\n",
       "    <tr>\n",
       "      <th>638</th>\n",
       "      <td>0.3</td>\n",
       "      <td>High</td>\n",
       "    </tr>\n",
       "    <tr>\n",
       "      <th>639</th>\n",
       "      <td>0.3</td>\n",
       "      <td>Medium</td>\n",
       "    </tr>\n",
       "    <tr>\n",
       "      <th>640</th>\n",
       "      <td>1.3</td>\n",
       "      <td>Medium</td>\n",
       "    </tr>\n",
       "    <tr>\n",
       "      <th>641</th>\n",
       "      <td>0.5</td>\n",
       "      <td>High</td>\n",
       "    </tr>\n",
       "  </tbody>\n",
       "</table>\n",
       "<p>642 rows × 2 columns</p>\n",
       "</div>"
      ],
      "text/plain": [
       "     Days Priority\n",
       "0     3.3     High\n",
       "1     7.9   Medium\n",
       "2     0.3     High\n",
       "3     0.7   Medium\n",
       "4     8.6   Medium\n",
       "..    ...      ...\n",
       "637   2.5      Low\n",
       "638   0.3     High\n",
       "639   0.3   Medium\n",
       "640   1.3   Medium\n",
       "641   0.5     High\n",
       "\n",
       "[642 rows x 2 columns]"
      ]
     },
     "execution_count": 33,
     "metadata": {},
     "output_type": "execute_result"
    }
   ],
   "source": [
    "priority_assessment = pd.read_csv(\"C:/Users/Jayanto Debnath/Downloads/Basic Statistics - Hypothesis Testing/Priority_Assessment.csv\")\n",
    "priority_assessment"
   ]
  },
  {
   "cell_type": "code",
   "execution_count": 35,
   "id": "052cc008",
   "metadata": {},
   "outputs": [
    {
     "data": {
      "text/plain": [
       "Days        0\n",
       "Priority    0\n",
       "dtype: int64"
      ]
     },
     "execution_count": 35,
     "metadata": {},
     "output_type": "execute_result"
    }
   ],
   "source": [
    "priority_assessment.isnull().sum()"
   ]
  },
  {
   "cell_type": "markdown",
   "id": "9739e0ad",
   "metadata": {},
   "source": [
    "## BUSINESS PROBLEM: We will focus on the prioritization system. If the system is working, thenhigh priority jobs, on average, should be completed more quickly than medium priority jobs,and medium priority jobs should be completed more quickly than low priority jobs. Use thedata provided to determine whether thisis, in fact, occurring"
   ]
  },
  {
   "cell_type": "markdown",
   "id": "a0147114",
   "metadata": {},
   "source": [
    "#### 1 Define H0:\n",
    "    variables independant\n",
    "\n",
    "#### 2 Dwefine Ha: \n",
    "    variables dependant\n",
    "\n",
    "#### 3. Define ci & pvalue:¶\n",
    "    ci = 95%\n",
    "    p_val = 0.05\n",
    "    signi. val =  1.960        \n",
    "\n",
    "#### 4 perform the test:"
   ]
  },
  {
   "cell_type": "code",
   "execution_count": 36,
   "id": "d11ef435",
   "metadata": {},
   "outputs": [
    {
     "name": "stderr",
     "output_type": "stream",
     "text": [
      "C:\\Users\\Jayanto Debnath\\anaconda3\\lib\\site-packages\\scipy\\stats\\_stats_py.py:110: RuntimeWarning: The input array could not be properly checked for nan values. nan values will be ignored.\n",
      "  warnings.warn(\"The input array could not be properly \"\n"
     ]
    },
    {
     "data": {
      "text/plain": [
       "SpearmanrResult(correlation=0.017913791551236326, pvalue=0.6505153120156153)"
      ]
     },
     "execution_count": 36,
     "metadata": {},
     "output_type": "execute_result"
    }
   ],
   "source": [
    "stats.spearmanr( priority_assessment.Days , priority_assessment.Priority)"
   ]
  },
  {
   "cell_type": "markdown",
   "id": "85f7a231",
   "metadata": {},
   "source": [
    "#### business conclusion:\n",
    "    With the given data we cannot say that the prioritization system is working."
   ]
  },
  {
   "cell_type": "markdown",
   "id": "0097c31b",
   "metadata": {},
   "source": [
    "# BUSINESS PROBLEM 5"
   ]
  },
  {
   "cell_type": "code",
   "execution_count": 39,
   "id": "9f997623",
   "metadata": {},
   "outputs": [
    {
     "data": {
      "text/html": [
       "<div>\n",
       "<style scoped>\n",
       "    .dataframe tbody tr th:only-of-type {\n",
       "        vertical-align: middle;\n",
       "    }\n",
       "\n",
       "    .dataframe tbody tr th {\n",
       "        vertical-align: top;\n",
       "    }\n",
       "\n",
       "    .dataframe thead th {\n",
       "        text-align: right;\n",
       "    }\n",
       "</style>\n",
       "<table border=\"1\" class=\"dataframe\">\n",
       "  <thead>\n",
       "    <tr style=\"text-align: right;\">\n",
       "      <th></th>\n",
       "      <th>_rowstate_</th>\n",
       "      <th>Movie</th>\n",
       "      <th>Gender</th>\n",
       "      <th>Marital_Status</th>\n",
       "      <th>Sinage</th>\n",
       "      <th>Parking</th>\n",
       "      <th>Clean</th>\n",
       "      <th>Overall</th>\n",
       "      <th>Age</th>\n",
       "      <th>Income</th>\n",
       "      <th>Hear_About</th>\n",
       "    </tr>\n",
       "  </thead>\n",
       "  <tbody>\n",
       "    <tr>\n",
       "      <th>0</th>\n",
       "      <td>0</td>\n",
       "      <td>Ferris Buellers Day Off</td>\n",
       "      <td>Female</td>\n",
       "      <td>Married</td>\n",
       "      <td>2.0</td>\n",
       "      <td>2.0</td>\n",
       "      <td>2.0</td>\n",
       "      <td>2.0</td>\n",
       "      <td>3.0</td>\n",
       "      <td>1.0</td>\n",
       "      <td>5</td>\n",
       "    </tr>\n",
       "    <tr>\n",
       "      <th>1</th>\n",
       "      <td>0</td>\n",
       "      <td>Ferris Buellers Day Off</td>\n",
       "      <td>Female</td>\n",
       "      <td>Single</td>\n",
       "      <td>1.0</td>\n",
       "      <td>1.0</td>\n",
       "      <td>1.0</td>\n",
       "      <td>1.0</td>\n",
       "      <td>2.0</td>\n",
       "      <td>1.0</td>\n",
       "      <td>5</td>\n",
       "    </tr>\n",
       "    <tr>\n",
       "      <th>2</th>\n",
       "      <td>0</td>\n",
       "      <td>Ferris Buellers Day Off</td>\n",
       "      <td>Male</td>\n",
       "      <td>Married</td>\n",
       "      <td>2.0</td>\n",
       "      <td>4.0</td>\n",
       "      <td>3.0</td>\n",
       "      <td>2.0</td>\n",
       "      <td>4.0</td>\n",
       "      <td>1.0</td>\n",
       "      <td>5</td>\n",
       "    </tr>\n",
       "    <tr>\n",
       "      <th>3</th>\n",
       "      <td>0</td>\n",
       "      <td>Ferris Buellers Day Off</td>\n",
       "      <td>Female</td>\n",
       "      <td>Married</td>\n",
       "      <td>1.0</td>\n",
       "      <td>3.0</td>\n",
       "      <td>2.0</td>\n",
       "      <td>2.0</td>\n",
       "      <td>4.0</td>\n",
       "      <td>1.0</td>\n",
       "      <td>5</td>\n",
       "    </tr>\n",
       "    <tr>\n",
       "      <th>4</th>\n",
       "      <td>0</td>\n",
       "      <td>Ferris Buellers Day Off</td>\n",
       "      <td>Female</td>\n",
       "      <td>Married</td>\n",
       "      <td>1.0</td>\n",
       "      <td>1.0</td>\n",
       "      <td>1.0</td>\n",
       "      <td>1.0</td>\n",
       "      <td>3.0</td>\n",
       "      <td>3.0</td>\n",
       "      <td>1</td>\n",
       "    </tr>\n",
       "    <tr>\n",
       "      <th>...</th>\n",
       "      <td>...</td>\n",
       "      <td>...</td>\n",
       "      <td>...</td>\n",
       "      <td>...</td>\n",
       "      <td>...</td>\n",
       "      <td>...</td>\n",
       "      <td>...</td>\n",
       "      <td>...</td>\n",
       "      <td>...</td>\n",
       "      <td>...</td>\n",
       "      <td>...</td>\n",
       "    </tr>\n",
       "    <tr>\n",
       "      <th>325</th>\n",
       "      <td>0</td>\n",
       "      <td>Old School</td>\n",
       "      <td>2</td>\n",
       "      <td>2</td>\n",
       "      <td>1.0</td>\n",
       "      <td>2.0</td>\n",
       "      <td>1.0</td>\n",
       "      <td>1.0</td>\n",
       "      <td>2.0</td>\n",
       "      <td>1.0</td>\n",
       "      <td>1</td>\n",
       "    </tr>\n",
       "    <tr>\n",
       "      <th>326</th>\n",
       "      <td>0</td>\n",
       "      <td>Old School</td>\n",
       "      <td>1</td>\n",
       "      <td>1</td>\n",
       "      <td>2.0</td>\n",
       "      <td>2.0</td>\n",
       "      <td>2.0</td>\n",
       "      <td>2.0</td>\n",
       "      <td>3.0</td>\n",
       "      <td>3.0</td>\n",
       "      <td>5</td>\n",
       "    </tr>\n",
       "    <tr>\n",
       "      <th>327</th>\n",
       "      <td>0</td>\n",
       "      <td>Old School</td>\n",
       "      <td>2</td>\n",
       "      <td>1</td>\n",
       "      <td>2.0</td>\n",
       "      <td>1.0</td>\n",
       "      <td>1.0</td>\n",
       "      <td>2.0</td>\n",
       "      <td>2.0</td>\n",
       "      <td>2.0</td>\n",
       "      <td>5</td>\n",
       "    </tr>\n",
       "    <tr>\n",
       "      <th>328</th>\n",
       "      <td>0</td>\n",
       "      <td>Old School</td>\n",
       "      <td>1</td>\n",
       "      <td>1</td>\n",
       "      <td>1.0</td>\n",
       "      <td>1.0</td>\n",
       "      <td>1.0</td>\n",
       "      <td>1.0</td>\n",
       "      <td>2.0</td>\n",
       "      <td>1.0</td>\n",
       "      <td>3</td>\n",
       "    </tr>\n",
       "    <tr>\n",
       "      <th>329</th>\n",
       "      <td>0</td>\n",
       "      <td>Old School</td>\n",
       "      <td>2</td>\n",
       "      <td>2</td>\n",
       "      <td>2.0</td>\n",
       "      <td>2.0</td>\n",
       "      <td>3.0</td>\n",
       "      <td>1.0</td>\n",
       "      <td>2.0</td>\n",
       "      <td>1.0</td>\n",
       "      <td>5</td>\n",
       "    </tr>\n",
       "  </tbody>\n",
       "</table>\n",
       "<p>330 rows × 11 columns</p>\n",
       "</div>"
      ],
      "text/plain": [
       "     _rowstate_                    Movie  Gender Marital_Status  Sinage  \\\n",
       "0             0  Ferris Buellers Day Off  Female        Married     2.0   \n",
       "1             0  Ferris Buellers Day Off  Female         Single     1.0   \n",
       "2             0  Ferris Buellers Day Off    Male        Married     2.0   \n",
       "3             0  Ferris Buellers Day Off  Female        Married     1.0   \n",
       "4             0  Ferris Buellers Day Off  Female        Married     1.0   \n",
       "..          ...                      ...     ...            ...     ...   \n",
       "325           0               Old School       2              2     1.0   \n",
       "326           0               Old School       1              1     2.0   \n",
       "327           0               Old School       2              1     2.0   \n",
       "328           0               Old School       1              1     1.0   \n",
       "329           0               Old School       2              2     2.0   \n",
       "\n",
       "     Parking  Clean  Overall  Age  Income Hear_About  \n",
       "0        2.0    2.0      2.0  3.0     1.0          5  \n",
       "1        1.0    1.0      1.0  2.0     1.0          5  \n",
       "2        4.0    3.0      2.0  4.0     1.0          5  \n",
       "3        3.0    2.0      2.0  4.0     1.0          5  \n",
       "4        1.0    1.0      1.0  3.0     3.0          1  \n",
       "..       ...    ...      ...  ...     ...        ...  \n",
       "325      2.0    1.0      1.0  2.0     1.0          1  \n",
       "326      2.0    2.0      2.0  3.0     3.0          5  \n",
       "327      1.0    1.0      2.0  2.0     2.0          5  \n",
       "328      1.0    1.0      1.0  2.0     1.0          3  \n",
       "329      2.0    3.0      1.0  2.0     1.0          5  \n",
       "\n",
       "[330 rows x 11 columns]"
      ]
     },
     "execution_count": 39,
     "metadata": {},
     "output_type": "execute_result"
    }
   ],
   "source": [
    "films = pd.read_csv(\"C:/Users/Jayanto Debnath/Downloads/Basic Statistics - Hypothesis Testing/Films.csv\")\n",
    "films"
   ]
  },
  {
   "cell_type": "code",
   "execution_count": 40,
   "id": "3a509f09",
   "metadata": {},
   "outputs": [
    {
     "data": {
      "text/plain": [
       "_rowstate_         0\n",
       "Movie              0\n",
       "Gender             0\n",
       "Marital_Status     2\n",
       "Sinage             2\n",
       "Parking            2\n",
       "Clean              3\n",
       "Overall            2\n",
       "Age                2\n",
       "Income            16\n",
       "Hear_About         7\n",
       "dtype: int64"
      ]
     },
     "execution_count": 40,
     "metadata": {},
     "output_type": "execute_result"
    }
   ],
   "source": [
    "films.isnull().sum()"
   ]
  },
  {
   "cell_type": "code",
   "execution_count": 41,
   "id": "3aa92eef",
   "metadata": {},
   "outputs": [],
   "source": [
    "for var in films.columns:\n",
    "    films[var].fillna(value = films[var].mode()[0], inplace=True)"
   ]
  },
  {
   "cell_type": "code",
   "execution_count": 42,
   "id": "1e654d75",
   "metadata": {},
   "outputs": [],
   "source": [
    "def gender (x):\n",
    "    if x.Gender == 'Male' :\n",
    "        return '1'\n",
    "    elif x.Gender == 'Female'  :\n",
    "        return '0'\n",
    "    elif x.Gender == '1'  :\n",
    "        return '1'\n",
    "    else :\n",
    "        return '0'"
   ]
  },
  {
   "cell_type": "code",
   "execution_count": 43,
   "id": "746f92a0",
   "metadata": {},
   "outputs": [],
   "source": [
    "#converting males to 1 and females to 0 \n",
    "films.Gender = films.apply(gender, axis=1)"
   ]
  },
  {
   "cell_type": "code",
   "execution_count": 44,
   "id": "10377c93",
   "metadata": {},
   "outputs": [],
   "source": [
    "def married_status (x):\n",
    "    if x.Marital_Status == 'Married' :\n",
    "        return '1'\n",
    "    elif x.Marital_Status == 'Single'  :\n",
    "        return '0'\n",
    "    elif x.Marital_Status == '1'  :\n",
    "        return '1'\n",
    "    else :\n",
    "        return '0'"
   ]
  },
  {
   "cell_type": "code",
   "execution_count": 45,
   "id": "5af55c42",
   "metadata": {},
   "outputs": [],
   "source": [
    "#converting married to 1 and singles to 0\n",
    "films.Marital_Status = films.apply(married_status, axis=1)"
   ]
  },
  {
   "cell_type": "markdown",
   "id": "598ec7ff",
   "metadata": {},
   "source": [
    "## Q.1 What is the overall level of customer satisfaction"
   ]
  },
  {
   "cell_type": "code",
   "execution_count": 46,
   "id": "92b48be4",
   "metadata": {},
   "outputs": [
    {
     "name": "stdout",
     "output_type": "stream",
     "text": [
      "   Satisfaction level  count      Prob\n",
      "0                 1.0    151  0.457576\n",
      "1                 2.0    162  0.490909\n",
      "2                 3.0     12  0.036364\n",
      "3                 4.0      1  0.003030\n",
      "4                 5.0      4  0.012121\n",
      "  As Satisfaction level 1 is Excellent and 2 is Good. That means their is 94% chance customers are satisfied. \n"
     ]
    }
   ],
   "source": [
    "overall = films.groupby('Overall')[['Overall']].count()\n",
    "overall = overall.rename( columns={'Overall': 'count'}).reset_index()\n",
    "overall =overall.rename( columns={'Overall': 'Satisfaction level'})\n",
    "overall['Prob'] = overall['count'] / overall['count'].sum()\n",
    "print(overall)\n",
    "print('  As Satisfaction level 1 is Excellent and 2 is Good. That means their is 94% chance customers are satisfied. ')"
   ]
  },
  {
   "cell_type": "markdown",
   "id": "307f7683",
   "metadata": {},
   "source": [
    "## Q.2 What factors are linked to satisfaction"
   ]
  },
  {
   "cell_type": "code",
   "execution_count": 47,
   "id": "18929586",
   "metadata": {},
   "outputs": [],
   "source": [
    "# data prep for chi square test\n",
    "obs = pd.crosstab( films.Sinage,films.Overall )"
   ]
  },
  {
   "cell_type": "markdown",
   "id": "a0a7f910",
   "metadata": {},
   "source": [
    "\n",
    "\n",
    "#### Ho\n",
    "    No relationship, independant\n",
    "#### Ha: \n",
    "    variables are related, dependant\n",
    "   \n",
    "#### CI:\n",
    "      95%\n",
    "#### p:\n",
    "      0.05\n",
    "  \n",
    "\n",
    "\n",
    "#### perform the test"
   ]
  },
  {
   "cell_type": "code",
   "execution_count": 48,
   "id": "7fff4373",
   "metadata": {},
   "outputs": [
    {
     "data": {
      "text/plain": [
       "(125.61859671027881,\n",
       " 4.53298970003405e-19,\n",
       " 16,\n",
       " array([[5.17060606e+01, 5.54727273e+01, 4.10909091e+00, 3.42424242e-01,\n",
       "         1.36969697e+00],\n",
       "        [7.22969697e+01, 7.75636364e+01, 5.74545455e+00, 4.78787879e-01,\n",
       "         1.91515152e+00],\n",
       "        [2.19636364e+01, 2.35636364e+01, 1.74545455e+00, 1.45454545e-01,\n",
       "         5.81818182e-01],\n",
       "        [2.74545455e+00, 2.94545455e+00, 2.18181818e-01, 1.81818182e-02,\n",
       "         7.27272727e-02],\n",
       "        [2.28787879e+00, 2.45454545e+00, 1.81818182e-01, 1.51515152e-02,\n",
       "         6.06060606e-02]]))"
      ]
     },
     "execution_count": 48,
     "metadata": {},
     "output_type": "execute_result"
    }
   ],
   "source": [
    "\n",
    "stats.chi2_contingency( obs )"
   ]
  },
  {
   "cell_type": "markdown",
   "id": "73d489af",
   "metadata": {},
   "source": [
    "#### business conclusion\n",
    "    with increase in sinage rating overall staifaction is also increases"
   ]
  },
  {
   "cell_type": "code",
   "execution_count": 50,
   "id": "c7c9b161",
   "metadata": {},
   "outputs": [],
   "source": [
    "# data prep for chi square test\n",
    "obs = pd.crosstab( films.Parking,films.Overall )"
   ]
  },
  {
   "cell_type": "markdown",
   "id": "4fa319d4",
   "metadata": {},
   "source": [
    "#### 1 Define H0:\n",
    "    variables independant\n",
    "\n",
    "#### 2 Dwefine Ha: \n",
    "    variables dependant\n",
    "\n",
    "#### 3. Define ci & pvalue:¶\n",
    "    ci = 95%\n",
    "    p_val = 0.05\n",
    "    signi. val =  1.960        \n",
    "\n",
    "#### 4 perform the test:"
   ]
  },
  {
   "cell_type": "code",
   "execution_count": 51,
   "id": "05b65349",
   "metadata": {},
   "outputs": [
    {
     "data": {
      "text/plain": [
       "(230.61691663391676,\n",
       " 4.783162283608494e-40,\n",
       " 16,\n",
       " array([[6.17727273e+01, 6.62727273e+01, 4.90909091e+00, 4.09090909e-01,\n",
       "         1.63636364e+00],\n",
       "        [7.09242424e+01, 7.60909091e+01, 5.63636364e+00, 4.69696970e-01,\n",
       "         1.87878788e+00],\n",
       "        [1.32696970e+01, 1.42363636e+01, 1.05454545e+00, 8.78787879e-02,\n",
       "         3.51515152e-01],\n",
       "        [3.20303030e+00, 3.43636364e+00, 2.54545455e-01, 2.12121212e-02,\n",
       "         8.48484848e-02],\n",
       "        [1.83030303e+00, 1.96363636e+00, 1.45454545e-01, 1.21212121e-02,\n",
       "         4.84848485e-02]]))"
      ]
     },
     "execution_count": 51,
     "metadata": {},
     "output_type": "execute_result"
    }
   ],
   "source": [
    "stats.chi2_contingency( obs )"
   ]
  },
  {
   "cell_type": "markdown",
   "id": "eb34f71f",
   "metadata": {},
   "source": [
    "#### business conclusion\n",
    "    with increase in parking rating overall staifaction is also increases"
   ]
  },
  {
   "cell_type": "code",
   "execution_count": 52,
   "id": "9f6f5e37",
   "metadata": {},
   "outputs": [],
   "source": [
    "# data prep for chi square test\n",
    "obs = pd.crosstab( films.Clean,films.Overall )"
   ]
  },
  {
   "cell_type": "markdown",
   "id": "bf4f247a",
   "metadata": {},
   "source": [
    "#### 1 Define H0:\n",
    "    variables independant\n",
    "\n",
    "#### 2 Dwefine Ha: \n",
    "    variables dependant\n",
    "\n",
    "#### 3. Define ci & pvalue:¶\n",
    "    ci = 95%\n",
    "    p_val = 0.05\n",
    "    signi. val =  1.960        \n",
    "\n",
    "#### 4 perform the test"
   ]
  },
  {
   "cell_type": "code",
   "execution_count": 53,
   "id": "bf382862",
   "metadata": {},
   "outputs": [
    {
     "data": {
      "text/plain": [
       "(127.71945555999517,\n",
       " 1.7772535915434025e-19,\n",
       " 16,\n",
       " array([[6.58909091e+01, 7.06909091e+01, 5.23636364e+00, 4.36363636e-01,\n",
       "         1.74545455e+00],\n",
       "        [7.09242424e+01, 7.60909091e+01, 5.63636364e+00, 4.69696970e-01,\n",
       "         1.87878788e+00],\n",
       "        [1.09818182e+01, 1.17818182e+01, 8.72727273e-01, 7.27272727e-02,\n",
       "         2.90909091e-01],\n",
       "        [2.28787879e+00, 2.45454545e+00, 1.81818182e-01, 1.51515152e-02,\n",
       "         6.06060606e-02],\n",
       "        [9.15151515e-01, 9.81818182e-01, 7.27272727e-02, 6.06060606e-03,\n",
       "         2.42424242e-02]]))"
      ]
     },
     "execution_count": 53,
     "metadata": {},
     "output_type": "execute_result"
    }
   ],
   "source": [
    "stats.chi2_contingency( obs )\n"
   ]
  },
  {
   "cell_type": "markdown",
   "id": "73913141",
   "metadata": {},
   "source": [
    "#### business conclusion\n",
    "    with increase in clean rating overall staifaction is also increases"
   ]
  },
  {
   "cell_type": "markdown",
   "id": "9044c907",
   "metadata": {},
   "source": [
    "## Q.3 What is the demographic profile of Film on the Rocks patrons"
   ]
  },
  {
   "cell_type": "code",
   "execution_count": 54,
   "id": "45892b6e",
   "metadata": {},
   "outputs": [
    {
     "name": "stdout",
     "output_type": "stream",
     "text": [
      "  Marital_Status  count     Prob\n",
      "0              0    230  0.69697\n",
      "1              1    100  0.30303\n",
      "  Their is 69% probability that the audiance is Married\n"
     ]
    }
   ],
   "source": [
    "#Demography on Martial Status\n",
    "Marital_Status = films.groupby('Marital_Status')[['Marital_Status']].count()\n",
    "Marital_Status = Marital_Status.rename( columns={'Marital_Status': 'count'}).reset_index()\n",
    "Marital_Status['Prob'] = Marital_Status['count'] / Marital_Status['count'].sum()\n",
    "print(Marital_Status)\n",
    "print('  Their is 69% probability that the audiance is Married')"
   ]
  },
  {
   "cell_type": "code",
   "execution_count": 55,
   "id": "f0ad457e",
   "metadata": {},
   "outputs": [
    {
     "name": "stdout",
     "output_type": "stream",
     "text": [
      "   Age  count      Prob\n",
      "0  1.0     26  0.078788\n",
      "1  2.0    177  0.536364\n",
      "2  3.0    117  0.354545\n",
      "3  4.0     10  0.030303\n",
      "  Their is 53% probability that the age of the audiance is between 13-30\n"
     ]
    }
   ],
   "source": [
    "#Demography on Martial Status\n",
    "Age = films.groupby('Age')[['Age']].count()\n",
    "Age = Age.rename( columns={'Age': 'count'}).reset_index()\n",
    "Age['Prob'] = Age['count'] / Age['count'].sum()\n",
    "print(Age)\n",
    "print('  Their is 53% probability that the age of the audiance is between 13-30')"
   ]
  },
  {
   "cell_type": "code",
   "execution_count": 57,
   "id": "fd90d2de",
   "metadata": {},
   "outputs": [
    {
     "name": "stdout",
     "output_type": "stream",
     "text": [
      "   Income  count      Prob\n",
      "0     1.0    158  0.478788\n",
      "1     2.0     82  0.248485\n",
      "2     3.0     90  0.272727\n",
      "  Their is 47% probability that the Income of the audiance is less than 50K\n"
     ]
    }
   ],
   "source": [
    "#Demography on Income\n",
    "Income = films.groupby('Income')[['Income']].count()\n",
    "Income = Income.rename( columns={'Income': 'count'}).reset_index()\n",
    "Income['Prob'] = Income['count'] / Income['count'].sum()\n",
    "print(Income)\n",
    "print('  Their is 47% probability that the Income of the audiance is less than 50K') "
   ]
  },
  {
   "cell_type": "markdown",
   "id": "13c0b158",
   "metadata": {},
   "source": [
    "## Q.4 In what media outlet(s) should the film series be advertised"
   ]
  },
  {
   "cell_type": "code",
   "execution_count": 58,
   "id": "40195d7b",
   "metadata": {},
   "outputs": [
    {
     "name": "stdout",
     "output_type": "stream",
     "text": [
      "   Hear_About  count      Prob\n",
      "9           5    233  0.706061\n",
      "7           4     41  0.124242\n",
      "0           1     22  0.066667\n",
      "4           3     14  0.042424\n",
      "2           2     12  0.036364\n",
      "3         2,5      2  0.006061\n",
      "5         3,4      2  0.006061\n",
      "1         1,5      1  0.003030\n",
      "6         3,5      1  0.003030\n",
      "8         4,5      1  0.003030\n",
      "10        5,4      1  0.003030\n",
      "  Their is 70% probability that the audiance heard about the film series solely through word of mouth.\n"
     ]
    }
   ],
   "source": [
    "#Demography on Income\n",
    "Hear_About = films.groupby('Hear_About')[['Hear_About']].count()\n",
    "Hear_About = Hear_About.rename( columns={'Hear_About': 'count'}).reset_index()\n",
    "Hear_About['Prob'] = Hear_About['count'] / Hear_About['count'].sum()\n",
    "print(Hear_About.sort_values(by='Prob', ascending = False))\n",
    "print('  Their is 70% probability that the audiance heard about the film series solely through word of mouth.')"
   ]
  },
  {
   "cell_type": "code",
   "execution_count": null,
   "id": "d14dc772",
   "metadata": {},
   "outputs": [],
   "source": []
  }
 ],
 "metadata": {
  "kernelspec": {
   "display_name": "Python 3 (ipykernel)",
   "language": "python",
   "name": "python3"
  },
  "language_info": {
   "codemirror_mode": {
    "name": "ipython",
    "version": 3
   },
   "file_extension": ".py",
   "mimetype": "text/x-python",
   "name": "python",
   "nbconvert_exporter": "python",
   "pygments_lexer": "ipython3",
   "version": "3.9.13"
  }
 },
 "nbformat": 4,
 "nbformat_minor": 5
}
